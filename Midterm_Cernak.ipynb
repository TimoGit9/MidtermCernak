{
 "cells": [
  {
   "cell_type": "code",
   "execution_count": 7,
   "id": "6bb4c16a-febd-46a9-a675-bbd9eafce31e",
   "metadata": {},
   "outputs": [],
   "source": [
    "import pandas as pd\n",
    "import seaborn as sns\n",
    "import math\n",
    "import zipfile\n",
    "import matplotlib.pyplot as plt\n",
    "import scipy.stats as stats\n",
    "import numpy as np\n",
    "import datetime\n",
    "import zipfile\n",
    "%matplotlib inline"
   ]
  },
  {
   "cell_type": "code",
   "execution_count": 83,
   "id": "05b5e444-7e97-4605-bf6a-4e8830329b61",
   "metadata": {},
   "outputs": [],
   "source": [
    "DAL = pd.read_csv(r\"C:\\Users\\tcern\\Downloads\\DAL.csv\")\n",
    "KEY = pd.read_csv(r\"C:\\Users\\tcern\\Downloads\\KEY.csv\")\n",
    "NKE = pd.read_csv(r\"C:\\Users\\tcern\\Downloads\\NKE.csv\")\n",
    "UNH = pd.read_csv(r\"C:\\Users\\tcern\\Downloads\\UNH.csv\")\n",
    "ticker_list = [DAL,KEY,NKE,UNH]"
   ]
  },
  {
   "cell_type": "code",
   "execution_count": 17,
   "id": "2e1c907d-3973-465a-a51f-0d6547e58c46",
   "metadata": {},
   "outputs": [],
   "source": [
    "for ticker in ticker_list:\n",
    " ticker.set_index([\"Date\"],inplace = True)"
   ]
  },
  {
   "cell_type": "code",
   "execution_count": 19,
   "id": "deb7eb56-c201-44a1-8392-28c917dcf46a",
   "metadata": {},
   "outputs": [
    {
     "data": {
      "text/html": [
       "<div>\n",
       "<style scoped>\n",
       "    .dataframe tbody tr th:only-of-type {\n",
       "        vertical-align: middle;\n",
       "    }\n",
       "\n",
       "    .dataframe tbody tr th {\n",
       "        vertical-align: top;\n",
       "    }\n",
       "\n",
       "    .dataframe thead th {\n",
       "        text-align: right;\n",
       "    }\n",
       "</style>\n",
       "<table border=\"1\" class=\"dataframe\">\n",
       "  <thead>\n",
       "    <tr style=\"text-align: right;\">\n",
       "      <th></th>\n",
       "      <th>Open</th>\n",
       "      <th>High</th>\n",
       "      <th>Low</th>\n",
       "      <th>Close</th>\n",
       "      <th>Volume</th>\n",
       "      <th>Dividends</th>\n",
       "      <th>Stock Splits</th>\n",
       "    </tr>\n",
       "    <tr>\n",
       "      <th>Date</th>\n",
       "      <th></th>\n",
       "      <th></th>\n",
       "      <th></th>\n",
       "      <th></th>\n",
       "      <th></th>\n",
       "      <th></th>\n",
       "      <th></th>\n",
       "    </tr>\n",
       "  </thead>\n",
       "  <tbody>\n",
       "    <tr>\n",
       "      <th>2017-01-03</th>\n",
       "      <td>44.907</td>\n",
       "      <td>45.608</td>\n",
       "      <td>44.725</td>\n",
       "      <td>45.007</td>\n",
       "      <td>5423200</td>\n",
       "      <td>0.0</td>\n",
       "      <td>0.0</td>\n",
       "    </tr>\n",
       "    <tr>\n",
       "      <th>2017-01-04</th>\n",
       "      <td>45.562</td>\n",
       "      <td>46.326</td>\n",
       "      <td>45.471</td>\n",
       "      <td>46.117</td>\n",
       "      <td>7898600</td>\n",
       "      <td>0.0</td>\n",
       "      <td>0.0</td>\n",
       "    </tr>\n",
       "    <tr>\n",
       "      <th>2017-01-05</th>\n",
       "      <td>45.853</td>\n",
       "      <td>46.108</td>\n",
       "      <td>45.026</td>\n",
       "      <td>45.235</td>\n",
       "      <td>5806200</td>\n",
       "      <td>0.0</td>\n",
       "      <td>0.0</td>\n",
       "    </tr>\n",
       "    <tr>\n",
       "      <th>2017-01-06</th>\n",
       "      <td>45.289</td>\n",
       "      <td>45.753</td>\n",
       "      <td>44.771</td>\n",
       "      <td>45.189</td>\n",
       "      <td>6922700</td>\n",
       "      <td>0.0</td>\n",
       "      <td>0.0</td>\n",
       "    </tr>\n",
       "    <tr>\n",
       "      <th>2017-01-09</th>\n",
       "      <td>44.989</td>\n",
       "      <td>45.635</td>\n",
       "      <td>44.953</td>\n",
       "      <td>45.198</td>\n",
       "      <td>5332900</td>\n",
       "      <td>0.0</td>\n",
       "      <td>0.0</td>\n",
       "    </tr>\n",
       "    <tr>\n",
       "      <th>...</th>\n",
       "      <td>...</td>\n",
       "      <td>...</td>\n",
       "      <td>...</td>\n",
       "      <td>...</td>\n",
       "      <td>...</td>\n",
       "      <td>...</td>\n",
       "      <td>...</td>\n",
       "    </tr>\n",
       "    <tr>\n",
       "      <th>2022-12-23</th>\n",
       "      <td>32.322</td>\n",
       "      <td>32.657</td>\n",
       "      <td>31.869</td>\n",
       "      <td>32.647</td>\n",
       "      <td>5955600</td>\n",
       "      <td>0.0</td>\n",
       "      <td>0.0</td>\n",
       "    </tr>\n",
       "    <tr>\n",
       "      <th>2022-12-27</th>\n",
       "      <td>32.351</td>\n",
       "      <td>32.814</td>\n",
       "      <td>32.086</td>\n",
       "      <td>32.391</td>\n",
       "      <td>7613000</td>\n",
       "      <td>0.0</td>\n",
       "      <td>0.0</td>\n",
       "    </tr>\n",
       "    <tr>\n",
       "      <th>2022-12-28</th>\n",
       "      <td>32.332</td>\n",
       "      <td>32.509</td>\n",
       "      <td>31.426</td>\n",
       "      <td>31.495</td>\n",
       "      <td>7687300</td>\n",
       "      <td>0.0</td>\n",
       "      <td>0.0</td>\n",
       "    </tr>\n",
       "    <tr>\n",
       "      <th>2022-12-29</th>\n",
       "      <td>31.455</td>\n",
       "      <td>32.253</td>\n",
       "      <td>31.327</td>\n",
       "      <td>32.223</td>\n",
       "      <td>7388000</td>\n",
       "      <td>0.0</td>\n",
       "      <td>0.0</td>\n",
       "    </tr>\n",
       "    <tr>\n",
       "      <th>2022-12-30</th>\n",
       "      <td>31.938</td>\n",
       "      <td>32.538</td>\n",
       "      <td>31.849</td>\n",
       "      <td>32.351</td>\n",
       "      <td>6957600</td>\n",
       "      <td>0.0</td>\n",
       "      <td>0.0</td>\n",
       "    </tr>\n",
       "  </tbody>\n",
       "</table>\n",
       "<p>1510 rows × 7 columns</p>\n",
       "</div>"
      ],
      "text/plain": [
       "              Open    High     Low   Close   Volume  Dividends  Stock Splits\n",
       "Date                                                                        \n",
       "2017-01-03  44.907  45.608  44.725  45.007  5423200        0.0           0.0\n",
       "2017-01-04  45.562  46.326  45.471  46.117  7898600        0.0           0.0\n",
       "2017-01-05  45.853  46.108  45.026  45.235  5806200        0.0           0.0\n",
       "2017-01-06  45.289  45.753  44.771  45.189  6922700        0.0           0.0\n",
       "2017-01-09  44.989  45.635  44.953  45.198  5332900        0.0           0.0\n",
       "...            ...     ...     ...     ...      ...        ...           ...\n",
       "2022-12-23  32.322  32.657  31.869  32.647  5955600        0.0           0.0\n",
       "2022-12-27  32.351  32.814  32.086  32.391  7613000        0.0           0.0\n",
       "2022-12-28  32.332  32.509  31.426  31.495  7687300        0.0           0.0\n",
       "2022-12-29  31.455  32.253  31.327  32.223  7388000        0.0           0.0\n",
       "2022-12-30  31.938  32.538  31.849  32.351  6957600        0.0           0.0\n",
       "\n",
       "[1510 rows x 7 columns]"
      ]
     },
     "execution_count": 19,
     "metadata": {},
     "output_type": "execute_result"
    }
   ],
   "source": [
    "DAL"
   ]
  },
  {
   "cell_type": "code",
   "execution_count": 23,
   "id": "51a1df0e-1c1e-430c-81d4-8fb9df44d946",
   "metadata": {},
   "outputs": [
    {
     "name": "stdout",
     "output_type": "stream",
     "text": [
      "False\n",
      "False\n",
      "False\n",
      "True\n"
     ]
    }
   ],
   "source": [
    "print(sum(DAL[\"Open\"]==DAL[\"Close\"])==0)\n",
    "print(sum(KEY[\"Open\"]==KEY[\"Close\"])==0)\n",
    "print(sum(NKE[\"Open\"]==NKE[\"Close\"])==0)\n",
    "print(sum(UNH[\"Open\"]==UNH[\"Close\"])==0)"
   ]
  },
  {
   "cell_type": "code",
   "execution_count": 25,
   "id": "367b5c90-0b28-4cdc-b729-86d4ade50615",
   "metadata": {},
   "outputs": [
    {
     "data": {
      "text/html": [
       "<div>\n",
       "<style scoped>\n",
       "    .dataframe tbody tr th:only-of-type {\n",
       "        vertical-align: middle;\n",
       "    }\n",
       "\n",
       "    .dataframe tbody tr th {\n",
       "        vertical-align: top;\n",
       "    }\n",
       "\n",
       "    .dataframe thead th {\n",
       "        text-align: right;\n",
       "    }\n",
       "</style>\n",
       "<table border=\"1\" class=\"dataframe\">\n",
       "  <thead>\n",
       "    <tr style=\"text-align: right;\">\n",
       "      <th></th>\n",
       "      <th>Open</th>\n",
       "      <th>High</th>\n",
       "      <th>Low</th>\n",
       "      <th>Close</th>\n",
       "      <th>Volume</th>\n",
       "      <th>Dividends</th>\n",
       "      <th>Stock Splits</th>\n",
       "    </tr>\n",
       "    <tr>\n",
       "      <th>Date</th>\n",
       "      <th></th>\n",
       "      <th></th>\n",
       "      <th></th>\n",
       "      <th></th>\n",
       "      <th></th>\n",
       "      <th></th>\n",
       "      <th></th>\n",
       "    </tr>\n",
       "  </thead>\n",
       "  <tbody>\n",
       "    <tr>\n",
       "      <th>2017-01-03</th>\n",
       "      <td>143.651</td>\n",
       "      <td>144.667</td>\n",
       "      <td>141.885</td>\n",
       "      <td>143.936</td>\n",
       "      <td>3539700</td>\n",
       "      <td>0.0</td>\n",
       "      <td>0.0</td>\n",
       "    </tr>\n",
       "    <tr>\n",
       "      <th>2017-01-04</th>\n",
       "      <td>144.738</td>\n",
       "      <td>144.943</td>\n",
       "      <td>142.411</td>\n",
       "      <td>144.346</td>\n",
       "      <td>2695200</td>\n",
       "      <td>0.0</td>\n",
       "      <td>0.0</td>\n",
       "    </tr>\n",
       "    <tr>\n",
       "      <th>2017-01-05</th>\n",
       "      <td>144.203</td>\n",
       "      <td>144.988</td>\n",
       "      <td>143.989</td>\n",
       "      <td>144.587</td>\n",
       "      <td>2961100</td>\n",
       "      <td>0.0</td>\n",
       "      <td>0.0</td>\n",
       "    </tr>\n",
       "    <tr>\n",
       "      <th>2017-01-06</th>\n",
       "      <td>144.203</td>\n",
       "      <td>145.264</td>\n",
       "      <td>143.633</td>\n",
       "      <td>144.792</td>\n",
       "      <td>3081300</td>\n",
       "      <td>0.0</td>\n",
       "      <td>0.0</td>\n",
       "    </tr>\n",
       "    <tr>\n",
       "      <th>2017-01-09</th>\n",
       "      <td>144.426</td>\n",
       "      <td>144.810</td>\n",
       "      <td>143.339</td>\n",
       "      <td>144.382</td>\n",
       "      <td>3040800</td>\n",
       "      <td>0.0</td>\n",
       "      <td>0.0</td>\n",
       "    </tr>\n",
       "    <tr>\n",
       "      <th>...</th>\n",
       "      <td>...</td>\n",
       "      <td>...</td>\n",
       "      <td>...</td>\n",
       "      <td>...</td>\n",
       "      <td>...</td>\n",
       "      <td>...</td>\n",
       "      <td>...</td>\n",
       "    </tr>\n",
       "    <tr>\n",
       "      <th>2022-12-23</th>\n",
       "      <td>510.317</td>\n",
       "      <td>517.337</td>\n",
       "      <td>509.149</td>\n",
       "      <td>517.337</td>\n",
       "      <td>1292300</td>\n",
       "      <td>0.0</td>\n",
       "      <td>0.0</td>\n",
       "    </tr>\n",
       "    <tr>\n",
       "      <th>2022-12-27</th>\n",
       "      <td>519.888</td>\n",
       "      <td>521.748</td>\n",
       "      <td>515.916</td>\n",
       "      <td>517.999</td>\n",
       "      <td>1596700</td>\n",
       "      <td>0.0</td>\n",
       "      <td>0.0</td>\n",
       "    </tr>\n",
       "    <tr>\n",
       "      <th>2022-12-28</th>\n",
       "      <td>520.999</td>\n",
       "      <td>523.998</td>\n",
       "      <td>513.852</td>\n",
       "      <td>514.553</td>\n",
       "      <td>1694200</td>\n",
       "      <td>0.0</td>\n",
       "      <td>0.0</td>\n",
       "    </tr>\n",
       "    <tr>\n",
       "      <th>2022-12-29</th>\n",
       "      <td>518.535</td>\n",
       "      <td>519.645</td>\n",
       "      <td>514.952</td>\n",
       "      <td>515.945</td>\n",
       "      <td>1379700</td>\n",
       "      <td>0.0</td>\n",
       "      <td>0.0</td>\n",
       "    </tr>\n",
       "    <tr>\n",
       "      <th>2022-12-30</th>\n",
       "      <td>516.062</td>\n",
       "      <td>516.549</td>\n",
       "      <td>511.038</td>\n",
       "      <td>516.237</td>\n",
       "      <td>1849600</td>\n",
       "      <td>0.0</td>\n",
       "      <td>0.0</td>\n",
       "    </tr>\n",
       "  </tbody>\n",
       "</table>\n",
       "<p>1510 rows × 7 columns</p>\n",
       "</div>"
      ],
      "text/plain": [
       "               Open     High      Low    Close   Volume  Dividends  \\\n",
       "Date                                                                 \n",
       "2017-01-03  143.651  144.667  141.885  143.936  3539700        0.0   \n",
       "2017-01-04  144.738  144.943  142.411  144.346  2695200        0.0   \n",
       "2017-01-05  144.203  144.988  143.989  144.587  2961100        0.0   \n",
       "2017-01-06  144.203  145.264  143.633  144.792  3081300        0.0   \n",
       "2017-01-09  144.426  144.810  143.339  144.382  3040800        0.0   \n",
       "...             ...      ...      ...      ...      ...        ...   \n",
       "2022-12-23  510.317  517.337  509.149  517.337  1292300        0.0   \n",
       "2022-12-27  519.888  521.748  515.916  517.999  1596700        0.0   \n",
       "2022-12-28  520.999  523.998  513.852  514.553  1694200        0.0   \n",
       "2022-12-29  518.535  519.645  514.952  515.945  1379700        0.0   \n",
       "2022-12-30  516.062  516.549  511.038  516.237  1849600        0.0   \n",
       "\n",
       "            Stock Splits  \n",
       "Date                      \n",
       "2017-01-03           0.0  \n",
       "2017-01-04           0.0  \n",
       "2017-01-05           0.0  \n",
       "2017-01-06           0.0  \n",
       "2017-01-09           0.0  \n",
       "...                  ...  \n",
       "2022-12-23           0.0  \n",
       "2022-12-27           0.0  \n",
       "2022-12-28           0.0  \n",
       "2022-12-29           0.0  \n",
       "2022-12-30           0.0  \n",
       "\n",
       "[1510 rows x 7 columns]"
      ]
     },
     "execution_count": 25,
     "metadata": {},
     "output_type": "execute_result"
    }
   ],
   "source": [
    "UNH"
   ]
  },
  {
   "cell_type": "code",
   "execution_count": 87,
   "id": "e0450cc1-30b0-458a-ba9d-f5f209f0228d",
   "metadata": {},
   "outputs": [],
   "source": [
    "#Even though the calcualtion showed that UNH does have same price at open and close, we can see that it is not true after looking at the dataset"
   ]
  },
  {
   "cell_type": "code",
   "execution_count": 27,
   "id": "6c6c9aca-ef8d-43a1-a17f-0a7804654f6b",
   "metadata": {},
   "outputs": [
    {
     "name": "stdout",
     "output_type": "stream",
     "text": [
      "61.3 18.893\n",
      "23.297 6.521\n",
      "171.021 47.039\n",
      "538.889 140.521\n"
     ]
    }
   ],
   "source": [
    "for ticker in ticker_list:\n",
    "    print(ticker[\"Close\"].max(),ticker[\"Close\"].min())"
   ]
  },
  {
   "cell_type": "code",
   "execution_count": 29,
   "id": "95abc542-f8af-4265-82b7-bd25c52104ea",
   "metadata": {},
   "outputs": [
    {
     "name": "stdout",
     "output_type": "stream",
     "text": [
      "DAL\n",
      "count    1509.000000\n",
      "mean       -0.000219\n",
      "std         0.028231\n",
      "min        -0.301030\n",
      "25%        -0.011737\n",
      "50%         0.000000\n",
      "75%         0.011263\n",
      "max         0.190773\n",
      "Name: Close, dtype: float64\n",
      "KEY\n",
      "count    1509.000000\n",
      "mean        0.000113\n",
      "std         0.025681\n",
      "min        -0.242325\n",
      "25%        -0.010774\n",
      "50%         0.000514\n",
      "75%         0.011740\n",
      "max         0.170254\n",
      "Name: Close, dtype: float64\n",
      "NKE\n",
      "count    1509.000000\n",
      "mean        0.000579\n",
      "std         0.019936\n",
      "min        -0.137060\n",
      "25%        -0.008353\n",
      "50%         0.000566\n",
      "75%         0.010531\n",
      "max         0.144369\n",
      "Name: Close, dtype: float64\n",
      "UNH\n",
      "count    1509.000000\n",
      "mean        0.000846\n",
      "std         0.017561\n",
      "min        -0.189670\n",
      "25%        -0.006874\n",
      "50%         0.001075\n",
      "75%         0.008545\n",
      "max         0.120439\n",
      "Name: Close, dtype: float64\n"
     ]
    }
   ],
   "source": [
    "DAL_returns = np.log(DAL[\"Close\"]/DAL[\"Close\"].shift(1))\n",
    "KEY_returns = np.log(KEY[\"Close\"]/KEY[\"Close\"].shift(1))\n",
    "NKE_returns = np.log(NKE[\"Close\"]/NKE[\"Close\"].shift(1))\n",
    "UNH_returns = np.log(UNH[\"Close\"]/UNH[\"Close\"].shift(1))\n",
    "\n",
    "print(\"DAL\")\n",
    "print(DAL_returns.describe())\n",
    "print(\"KEY\")\n",
    "print(KEY_returns.describe())\n",
    "print(\"NKE\")\n",
    "print(NKE_returns.describe())\n",
    "print(\"UNH\")\n",
    "print(UNH_returns.describe())"
   ]
  },
  {
   "cell_type": "code",
   "execution_count": 41,
   "id": "4deee014-b346-4210-8d58-c025a5290aed",
   "metadata": {},
   "outputs": [
    {
     "name": "stdout",
     "output_type": "stream",
     "text": [
      "Please note that the first date corresponds to the gain and the second date to the loss\n",
      "DAL highest gain and loss\n",
      "2020-03-24\n",
      "2020-03-18\n",
      "KEY highest gain and loss\n",
      "2020-11-09\n",
      "2020-03-16\n",
      "NKE highest gain and loss\n",
      "2021-06-25\n",
      "2022-09-30\n",
      "UNH highest gain and loss\n",
      "2020-03-24\n",
      "2020-03-16\n"
     ]
    }
   ],
   "source": [
    "print(\"Please note that the first date corresponds to the gain and the second date to the loss\")\n",
    "print(\"DAL highest gain and loss\")\n",
    "print(DAL_returns.idxmax())\n",
    "print(DAL_returns.idxmin())\n",
    "print(\"KEY highest gain and loss\")\n",
    "print(KEY_returns.idxmax())\n",
    "print(KEY_returns.idxmin())\n",
    "print(\"NKE highest gain and loss\")\n",
    "print(NKE_returns.idxmax())\n",
    "print(NKE_returns.idxmin())\n",
    "print(\"UNH highest gain and loss\")\n",
    "print(UNH_returns.idxmax())\n",
    "print(UNH_returns.idxmin())"
   ]
  },
  {
   "cell_type": "code",
   "execution_count": 47,
   "id": "cf39dcd9-1de1-48a7-9364-5eb19cb22132",
   "metadata": {},
   "outputs": [
    {
     "name": "stdout",
     "output_type": "stream",
     "text": [
      "DAL\n",
      "61352888.82\n",
      "KEY\n",
      "48703048.24\n",
      "NKE\n",
      "36081414.38\n",
      "UNH\n",
      "16742877.64\n"
     ]
    }
   ],
   "source": [
    "DAL.index = pd.to_datetime(DAL.index)\n",
    "DAL_res = DAL.resample(\"W\").sum()\n",
    "print(\"DAL\")\n",
    "print(round(DAL_res[\"Volume\"].mean(),2))\n",
    "\n",
    "KEY.index = pd.to_datetime(KEY.index)\n",
    "KEY_res = KEY.resample(\"W\").sum()\n",
    "print(\"KEY\")\n",
    "print(round(KEY_res[\"Volume\"].mean(),2))\n",
    "\n",
    "NKE.index = pd.to_datetime(NKE.index)\n",
    "NKE_res = NKE.resample(\"W\").sum()\n",
    "print(\"NKE\")\n",
    "print(round(NKE_res[\"Volume\"].mean(),2))\n",
    "\n",
    "UNH.index = pd.to_datetime(UNH.index)\n",
    "UNH_res = UNH.resample(\"W\").sum()\n",
    "print(\"UNH\")\n",
    "print(round(UNH_res[\"Volume\"].mean(),2))"
   ]
  },
  {
   "cell_type": "code",
   "execution_count": 49,
   "id": "fff73bb5-5f61-41b0-8cef-ecb228641473",
   "metadata": {},
   "outputs": [
    {
     "name": "stdout",
     "output_type": "stream",
     "text": [
      "DAL\n",
      "-0.3301731008581359\n",
      "KEY\n",
      "0.17042309300234004\n",
      "NKE\n",
      "0.8740960247005899\n",
      "UNH\n",
      "1.2771972060232673\n",
      "1.2771972060232673\n"
     ]
    },
    {
     "name": "stderr",
     "output_type": "stream",
     "text": [
      "C:\\Users\\tcern\\AppData\\Local\\Temp\\ipykernel_14104\\2110749675.py:1: FutureWarning: Series.__getitem__ treating keys as positions is deprecated. In a future version, integer keys will always be treated as labels (consistent with DataFrame behavior). To access a value by position, use `ser.iloc[pos]`\n",
      "  DAL_total = np.log(DAL[\"Close\"][-1]/DAL[\"Close\"][0])\n",
      "C:\\Users\\tcern\\AppData\\Local\\Temp\\ipykernel_14104\\2110749675.py:5: FutureWarning: Series.__getitem__ treating keys as positions is deprecated. In a future version, integer keys will always be treated as labels (consistent with DataFrame behavior). To access a value by position, use `ser.iloc[pos]`\n",
      "  KEY_total = np.log(KEY[\"Close\"][-1]/KEY[\"Close\"][0])\n",
      "C:\\Users\\tcern\\AppData\\Local\\Temp\\ipykernel_14104\\2110749675.py:9: FutureWarning: Series.__getitem__ treating keys as positions is deprecated. In a future version, integer keys will always be treated as labels (consistent with DataFrame behavior). To access a value by position, use `ser.iloc[pos]`\n",
      "  NKE_total = np.log(NKE[\"Close\"][-1]/NKE[\"Close\"][0])\n",
      "C:\\Users\\tcern\\AppData\\Local\\Temp\\ipykernel_14104\\2110749675.py:13: FutureWarning: Series.__getitem__ treating keys as positions is deprecated. In a future version, integer keys will always be treated as labels (consistent with DataFrame behavior). To access a value by position, use `ser.iloc[pos]`\n",
      "  UNH_total = np.log(UNH[\"Close\"][-1]/UNH[\"Close\"][0])\n"
     ]
    }
   ],
   "source": [
    "DAL_total = np.log(DAL[\"Close\"][-1]/DAL[\"Close\"][0])\n",
    "print(\"DAL\")\n",
    "print(DAL_total)\n",
    "\n",
    "KEY_total = np.log(KEY[\"Close\"][-1]/KEY[\"Close\"][0])\n",
    "print(\"KEY\")\n",
    "print(KEY_total)\n",
    "\n",
    "NKE_total = np.log(NKE[\"Close\"][-1]/NKE[\"Close\"][0])\n",
    "print(\"NKE\")\n",
    "print(NKE_total)\n",
    "\n",
    "UNH_total = np.log(UNH[\"Close\"][-1]/UNH[\"Close\"][0])\n",
    "print(\"UNH\")\n",
    "print(UNH_total)\n",
    "\n",
    "print(max(DAL_total,KEY_total,NKE_total,UNH_total))"
   ]
  },
  {
   "cell_type": "code",
   "execution_count": null,
   "id": "c1ed15b5-6690-4a32-9ff1-95adf7da53be",
   "metadata": {},
   "outputs": [],
   "source": [
    "volume_class"
   ]
  },
  {
   "cell_type": "code",
   "execution_count": 79,
   "id": "4006a25d-7485-4f9f-94ae-c5542e564325",
   "metadata": {},
   "outputs": [
    {
     "name": "stdout",
     "output_type": "stream",
     "text": [
      "DAL is red, KEY is green, NKE is yellow, UNH is blue\n"
     ]
    },
    {
     "data": {
      "text/plain": [
       "<Axes: xlabel='Date'>"
      ]
     },
     "execution_count": 79,
     "metadata": {},
     "output_type": "execute_result"
    },
    {
     "data": {
      "image/png": "[encoded data removed]",
      "text/plain": [
       "<Figure size 640x480 with 1 Axes>"
      ]
     },
     "metadata": {},
     "output_type": "display_data"
    }
   ],
   "source": [
    "print(\"DAL is red, KEY is green, NKE is yellow, UNH is blue\")\n",
    "DAL_returns.plot(color = \"r\")\n",
    "KEY_returns.plot(color = \"g\")\n",
    "NKE_returns.plot(color = \"y\")\n",
    "UNH_returns.plot(color = \"b\")"
   ]
  },
  {
   "cell_type": "code",
   "execution_count": 51,
   "id": "fe2952d6-29c5-4611-86ce-f14cdf754001",
   "metadata": {},
   "outputs": [
    {
     "name": "stdout",
     "output_type": "stream",
     "text": [
      "  Symbol     Security  GICS_Sector                       hq    included  \\\n",
      "0    MMM           3M  Industrials    Saint Paul, Minnesota  09.08.1976   \n",
      "1    AOS  A. O. Smith  Industrials     Milwaukee, Wisconsin  26.07.2017   \n",
      "2    ABT       Abbott  Health Care  North Chicago, Illinois  31.03.1964   \n",
      "3   ABBV       AbbVie  Health Care  North Chicago, Illinois  31.12.2012   \n",
      "4   ABMD      Abiomed  Health Care   Danvers, Massachusetts  31.05.2018   \n",
      "\n",
      "       Founded  \n",
      "0         1902  \n",
      "1         1916  \n",
      "2         1888  \n",
      "3  2013 (1888)  \n",
      "4         1981  \n"
     ]
    }
   ],
   "source": [
    "###part 2###\n",
    "SP500 = pd.read_csv(\"https://ies-fsv.s3.eu-central-1.amazonaws.com/companies/companies_no_subindustry.csv\")\n",
    "print(SP500.head())"
   ]
  },
  {
   "cell_type": "code",
   "execution_count": 53,
   "id": "a5cc83af-a1e6-46fc-90b9-922a385408f2",
   "metadata": {},
   "outputs": [
    {
     "data": {
      "text/plain": [
       "45"
      ]
     },
     "execution_count": 53,
     "metadata": {},
     "output_type": "execute_result"
    }
   ],
   "source": [
    "sum(SP500[\"included\"].isna())"
   ]
  },
  {
   "cell_type": "code",
   "execution_count": null,
   "id": "b2c16d18-206e-4755-a814-772f8b513e8a",
   "metadata": {},
   "outputs": [],
   "source": []
  },
  {
   "cell_type": "code",
   "execution_count": 61,
   "id": "dbba7aa9-cf7d-4bff-85ef-e1c6095e5e9b",
   "metadata": {},
   "outputs": [
    {
     "data": {
      "text/plain": [
       "array(['Industrials', 'Health Care', 'Information Technology',\n",
       "       'Communication Services', 'Consumer Staples',\n",
       "       'Consumer Discretionary', 'Utilities', 'Financials', 'Materials',\n",
       "       'Real Estate', 'Energy'], dtype=object)"
      ]
     },
     "execution_count": 61,
     "metadata": {},
     "output_type": "execute_result"
    }
   ],
   "source": [
    "SP500[\"GICS_Sector\"].unique()"
   ]
  },
  {
   "cell_type": "code",
   "execution_count": 67,
   "id": "7f46ce54-85ea-4eec-ac6d-0693ef1fb513",
   "metadata": {},
   "outputs": [
    {
     "data": {
      "text/plain": [
       "<Axes: >"
      ]
     },
     "execution_count": 67,
     "metadata": {},
     "output_type": "execute_result"
    },
    {
     "data": {
      "image/png": "[encoded data removed]",
      "text/plain": [
       "<Figure size 640x480 with 1 Axes>"
      ]
     },
     "metadata": {},
     "output_type": "display_data"
    }
   ],
   "source": [
    "SP500[\"GICS_Sector\"].hist()"
   ]
  }
 ],
 "metadata": {
  "kernelspec": {
   "display_name": "Python 3 (ipykernel)",
   "language": "python",
   "name": "python3"
  },
  "language_info": {
   "codemirror_mode": {
    "name": "ipython",
    "version": 3
   },
   "file_extension": ".py",
   "mimetype": "text/x-python",
   "name": "python",
   "nbconvert_exporter": "python",
   "pygments_lexer": "ipython3",
   "version": "3.12.4"
  }
 },
 "nbformat": 4,
 "nbformat_minor": 5
}
